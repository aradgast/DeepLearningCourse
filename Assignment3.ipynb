{
  "cells": [
    {
      "cell_type": "markdown",
      "metadata": {
        "id": "view-in-github",
        "colab_type": "text"
      },
      "source": [
        "<a href=\"https://colab.research.google.com/github/aradgast/DeepLearningCourse/blob/main/Assignment3.ipynb\" target=\"_parent\"><img src=\"https://colab.research.google.com/assets/colab-badge.svg\" alt=\"Open In Colab\"/></a>"
      ]
    },
    {
      "cell_type": "markdown",
      "source": [
        "# Assignment 3: Image Classification\n",
        "\n",
        "**Assignment Responsible**: Natalie Lang.\n",
        "\n",
        "In this assignment, we will build a convolutional neural network that can predict \n",
        "whether two shoes are from the **same pair** or from two **different pairs**.\n",
        "This kind of application can have real-world applications: for example to help\n",
        "people who are visually impaired to have more independence.\n",
        "\n",
        "We will explore two convolutional architectures. While we will give you starter\n",
        "code to help make data processing a bit easier, in this assignment you have a chance to build your neural network all by yourself. \n",
        "\n",
        "You may modify the starter code as you see fit, including changing the signatures of\n",
        "functions and adding/removing helper functions. However, please make sure that we can understand what you are doing and why.\n",
        " "
      ],
      "metadata": {
        "datalore": {
          "node_id": "rUtqtpumeGiU9qSgLSWIsq",
          "type": "MD",
          "hide_input_from_viewers": false,
          "hide_output_from_viewers": false,
          "report_properties": {}
        },
        "id": "YTaIuNeW2_fi"
      }
    },
    {
      "cell_type": "code",
      "source": [
        "import pandas\n",
        "import numpy as np\n",
        "import matplotlib.pyplot as plt\n",
        "\n",
        "import torch\n",
        "import torch.nn as nn\n",
        "import torch.optim as optim"
      ],
      "execution_count": null,
      "outputs": [],
      "metadata": {
        "datalore": {
          "node_id": "Ah4GlVbbAIFKEVViWTgJBk",
          "type": "CODE",
          "hide_input_from_viewers": false,
          "hide_output_from_viewers": false,
          "report_properties": {}
        },
        "id": "5UnqsYRP2_fn"
      }
    },
    {
      "cell_type": "markdown",
      "source": [
        "## Question 1. Data (20%)\n",
        "\n",
        "Download the data from https://www.dropbox.com/s/6gdcpmfddojrl8o/data.rar?dl=0.\n",
        "\n",
        "Unzip the file. There are three\n",
        "main folders: `train`, `test_w` and `test_m`. Data in `train` will be used for\n",
        "training and validation, and the data in the other folders will be used for testing.\n",
        "This is so that the entire class will have the same test sets. The dataset is comprised of triplets of pairs, where each such triplet of image pairs was taken in a similar setting (by the same person).\n",
        "\n",
        "We've separated `test_w` and `test_m` so that we can track our model performance \n",
        "for women's shoes and men's shoes separately. Each of the test sets contain images of either exclusively men's shoes or women's\n",
        "shoes.\n",
        "\n",
        "Upload this data to Google Colab.\n",
        "Then, mount Google Drive from your Google Colab notebook:"
      ],
      "metadata": {
        "datalore": {
          "node_id": "iwTIBTefYd7Hx4VzEIUAjs",
          "type": "MD",
          "hide_input_from_viewers": false,
          "hide_output_from_viewers": false,
          "report_properties": {}
        },
        "id": "XvfVTZtq2_fo"
      }
    },
    {
      "cell_type": "code",
      "source": [
        "from google.colab import drive\n",
        "drive.mount('/content/gdrive')"
      ],
      "execution_count": null,
      "outputs": [],
      "metadata": {
        "datalore": {
          "node_id": "eLDlDXFSkWiHx6Wbv7fwUE",
          "type": "CODE",
          "hide_input_from_viewers": false,
          "hide_output_from_viewers": false,
          "report_properties": {}
        },
        "id": "Pd5Yf5dR2_fo"
      }
    },
    {
      "cell_type": "markdown",
      "source": [
        "After you have done so, read this entire section \n",
        "before proceeding. There are right and wrong ways of\n",
        "processing this data. If you don't make the correct choices, you may find\n",
        "yourself needing to start over.\n",
        "Many machine learning projects fail because of the lack of care taken during\n",
        "the data processing stage."
      ],
      "metadata": {
        "datalore": {
          "node_id": "zxw4NgPD9PJ4BaiYqUpMfH",
          "type": "MD",
          "hide_input_from_viewers": false,
          "hide_output_from_viewers": false,
          "report_properties": {}
        },
        "id": "5JJWUfHi2_fp"
      }
    },
    {
      "cell_type": "markdown",
      "source": [
        "### Part (a) -- 8%\n",
        "\n",
        "Load the training and test data, and separate your training data into training and validation.\n",
        "Create the numpy arrays `train_data`, `valid_data`, `test_w` and `test_m`, all of which should\n",
        "be of shape `[*, 3, 2, 224, 224, 3]`. The dimensions of these numpy arrays are as follows:\n",
        "\n",
        "- `*` - the number of triplets allocated to train, valid, or test\n",
        "- `3` - the 3 pairs of shoe images in that triplet\n",
        "- `2` - the left/right shoes\n",
        "- `224` - the height of each image\n",
        "- `224` - the width of each image\n",
        "- `3` - the colour channels\n",
        "\n",
        "So, the item `train_data[4,0,0,:,:,:]` should give us the left shoe of the first image of the fifth person.The item `train_data[4,0,1,:,:,:]`  should be the right shoe in the same pair. \n",
        "The item `train_data[4,1,1,:,:,:]`  should be the right shoe in a different pair of that same person.\n",
        "\n",
        "When you first load the images using (for example) `plt.imread`, you may see a numpy array of shape\n",
        "`[224, 224, 4]` instead of `[224, 224, 3]`. That last channel is what's called the alpha channel for transparent\n",
        "pixels, and should be removed. \n",
        "The pixel intensities are stored as an integer between 0 and 255.\n",
        "Make sure you normlize your images, namely, divide the intensities by 255 so that you have floating-point values between 0 and 1. Then, subtract 0.5\n",
        "so that the elements of `train_data`, `valid_data` and `test_data` are between -0.5 and 0.5.\n",
        "**Note that this step actually makes a huge difference in training!**\n",
        "\n",
        "This function might take a while to run; it can takes several minutes to just\n",
        "load the files from Google Drive.  If you want to avoid\n",
        "running this code multiple times, you can save \n",
        "your numpy arrays and load it later:\n",
        "https://docs.scipy.org/doc/numpy/reference/generated/numpy.save.html"
      ],
      "metadata": {
        "datalore": {
          "node_id": "0Y652e87nWFEZO8504Yb8y",
          "type": "MD",
          "hide_input_from_viewers": false,
          "hide_output_from_viewers": false,
          "report_properties": {}
        },
        "id": "MTKHnZEF2_fp"
      }
    },
    {
      "cell_type": "code",
      "source": [
        "# Your code goes here. Make sure it does not get cut off\n",
        "# You can use the code below to help you get started. You're welcome to modify\n",
        "# the code or remove it entirely: it's just here so that you don't get stuck\n",
        "# reading files\n",
        "\n",
        "import glob\n",
        "path = \"/content/gdrive/My Drive/Intro_to_Deep_Learning/data/train/*.jpg\" # TODO - UPDATE ME!\n",
        "images = {}\n",
        "for file in glob.glob(path):\n",
        "    filename = file.split(\"/\")[-1]   # get the name of the .jpg file\n",
        "    img = plt.imread(file)           # read the image as a numpy array\n",
        "    images[filename] = img[:, :, :3] # remove the alpha channel"
      ],
      "execution_count": null,
      "outputs": [],
      "metadata": {
        "datalore": {
          "node_id": "LRJHeH7PWHwVXflhOi59Ql",
          "type": "CODE",
          "hide_input_from_viewers": false,
          "hide_output_from_viewers": false,
          "report_properties": {}
        },
        "id": "JS-r8iDs2_fq"
      }
    },
    {
      "cell_type": "code",
      "source": [
        "# Run this code, include the image in your PDF submission\n",
        "# plt.figure()\n",
        "# plt.imshow(train_data[4,0,0,:,:,:]) # left shoe of first pair submitted by 5th student\n",
        "# plt.figure()\n",
        "# plt.imshow(train_data[4,0,1,:,:,:]) # right shoe of first pair submitted by 5th student\n",
        "# plt.figure()\n",
        "# plt.imshow(train_data[4,1,1,:,:,:]) # right shoe of second pair submitted by 5th student"
      ],
      "execution_count": null,
      "outputs": [],
      "metadata": {
        "datalore": {
          "node_id": "k2HYqkkvYFFEYKNrSvH29r",
          "type": "CODE",
          "hide_input_from_viewers": false,
          "hide_output_from_viewers": false,
          "report_properties": {}
        },
        "id": "7HX59Gt42_fr"
      }
    },
    {
      "cell_type": "markdown",
      "source": [
        "### Part (b) -- 4%\n",
        "\n",
        "Since we want to train a model that determines whether two shoes come from the **same**\n",
        "pair or **different** pairs, we need to create some labelled training data.\n",
        "Our model will take in an image, either consisting of two shoes from the **same pair**\n",
        "or from **different pairs**. So, we'll need to generate some *positive examples* with\n",
        "images containing two shoes that *are* from the same pair, and some *negative examples* where \n",
        "images containing two shoes that *are not* from the same pair.\n",
        "We'll generate the *positive examples* in this part, and the *negative examples* in the next part.\n",
        "\n",
        "Write a function `generate_same_pair()` that takes one of the data sets that you produced\n",
        "in part (a), and generates a numpy array where each pair of shoes in the data set is\n",
        "concatenated together. In particular, we'll be concatenating together images of left\n",
        "and right shoes along the **height** axis. Your function `generate_same_pair` should\n",
        "return a  numpy array of shape `[*, 448, 224, 3]`.\n",
        "\n",
        "While at this stage we are working with numpy arrays, later on, we will need to convert this numpy array into a PyTorch tensor with shape\n",
        "`[*, 3, 448, 224]`. For now, we'll keep the RGB channel as the last dimension since\n",
        "that's what `plt.imshow` requires."
      ],
      "metadata": {
        "datalore": {
          "node_id": "M31szoZzg8PFQL7hPBychA",
          "type": "MD",
          "hide_input_from_viewers": false,
          "hide_output_from_viewers": false,
          "report_properties": {}
        },
        "id": "erUVlQ_M2_fs"
      }
    },
    {
      "cell_type": "code",
      "source": [
        "# Your code goes here\n",
        "\n",
        "# Run this code, include the result with your PDF submission\n",
        "print(train_data.shape) # if this is [N, 3, 2, 224, 224, 3]\n",
        "print(generate_same_pair(train_data).shape) # should be [N*3, 448, 224, 3]\n",
        "plt.imshow(generate_same_pair(train_data)[0]) # should show 2 shoes from the same pair"
      ],
      "execution_count": null,
      "outputs": [],
      "metadata": {
        "datalore": {
          "node_id": "lZyhlAXsaXl7apZAHDfhTh",
          "type": "CODE",
          "hide_input_from_viewers": false,
          "hide_output_from_viewers": false,
          "report_properties": {}
        },
        "id": "MRB5Ikbi2_fs"
      }
    },
    {
      "cell_type": "markdown",
      "source": [
        "### Part (c) -- 4%\n",
        "\n",
        "Write a function `generate_different_pair()` that takes one of the data sets that\n",
        "you produced in part (a), and generates a numpy array in the same shape as part (b).\n",
        "However, each image will contain 2 shoes from a **different** pair, but submitted\n",
        "by the **same student**. Do this by jumbling the 3 pairs of shoes submitted by \n",
        "each student.\n",
        "\n",
        "Theoretically, for each person (triplet of pairs), there are 6 different combinations\n",
        "of \"wrong pairs\" that we could produce. To keep our data set *balanced*, we will\n",
        "only produce **three** combinations of wrong pairs per unique person.\n",
        "In other words,`generate_same_pairs` and `generate_different_pairs` should\n",
        "return the same number of training examples."
      ],
      "metadata": {
        "datalore": {
          "node_id": "TB79Scbn0VYEEVsSHY70Ph",
          "type": "MD",
          "hide_input_from_viewers": false,
          "hide_output_from_viewers": false,
          "report_properties": {}
        },
        "id": "RnB5FTwc2_ft"
      }
    },
    {
      "cell_type": "code",
      "source": [
        "# Your code goes here\n",
        "\n",
        "# Run this code, include the result with your PDF submission\n",
        "print(train_data.shape) # if this is [N, 3, 2, 224, 224, 3]\n",
        "print(generate_different_pair(train_data).shape) # should be [N*3, 448, 224, 3]\n",
        "plt.imshow(generate_different_pair(train_data)[0]) # should show 2 shoes from different pairs"
      ],
      "execution_count": null,
      "outputs": [],
      "metadata": {
        "datalore": {
          "node_id": "ZfXCVLWwDPNrNaaA5zUIij",
          "type": "CODE",
          "hide_input_from_viewers": false,
          "hide_output_from_viewers": false,
          "report_properties": {}
        },
        "id": "mQVFESlm2_ft"
      }
    },
    {
      "cell_type": "markdown",
      "source": [
        "### Part (d) -- 2%\n",
        "\n",
        "Why do we insist that the different pairs of shoes still come from the same\n",
        "person?  (Hint: what else do images from the same person have in common?)"
      ],
      "metadata": {
        "datalore": {
          "node_id": "8DMmQChXuB7p4NOWIW7gr6",
          "type": "MD",
          "hide_input_from_viewers": false,
          "hide_output_from_viewers": false,
          "report_properties": {}
        },
        "id": "NNP6HlgI2_ft"
      }
    },
    {
      "cell_type": "markdown",
      "source": [
        "**Write your explanation here:**"
      ],
      "metadata": {
        "datalore": {
          "node_id": "UbnQwl5HaGWVL0DauFJ1q1",
          "type": "MD",
          "hide_input_from_viewers": false,
          "hide_output_from_viewers": false,
          "report_properties": {}
        },
        "id": "YBrpLP9f2_fu"
      }
    },
    {
      "cell_type": "markdown",
      "source": [
        "### Part (e) -- 2%\n",
        "\n",
        "Why is it important that our data set be *balanced*? In other words suppose we created\n",
        "a data set where 99% of the images are of shoes that are *not* from the same pair, and \n",
        "1% of the images are shoes that *are* from the same pair. Why could this be a problem?"
      ],
      "metadata": {
        "datalore": {
          "node_id": "bnw4w9lPJxnvE8iByxyx6N",
          "type": "MD",
          "hide_input_from_viewers": false,
          "hide_output_from_viewers": false,
          "report_properties": {}
        },
        "id": "TFc0RLOC2_fu"
      }
    },
    {
      "cell_type": "markdown",
      "source": [
        "**Write your explanation here:**"
      ],
      "metadata": {
        "datalore": {
          "node_id": "a3Y6dBvBPceY3pFEgj26Ul",
          "type": "MD",
          "hide_input_from_viewers": false,
          "hide_output_from_viewers": false,
          "report_properties": {}
        },
        "id": "fkz89-_N2_fu"
      }
    },
    {
      "cell_type": "markdown",
      "source": [
        "## Question 2. Convolutional Neural Networks (25%)\n",
        "\n",
        "Before starting this question, we recommend reviewing the lecture and its associated example notebook on CNNs.\n",
        "\n",
        "In this section, we will build two CNN models in PyTorch.\n",
        "\n",
        "### Part (a) -- 9%\n",
        "\n",
        "Implement a CNN model in PyTorch called `CNN` that will take images of size\n",
        "$3 \\times 448 \\times 224$, and classify whether the images contain shoes from\n",
        "the same pair or from different pairs.\n",
        "\n",
        "The model should contain the following layers:\n",
        "\n",
        "- A convolution layer that takes in 3 channels, and outputs $n$ channels.\n",
        "- A $2 \\times 2$ downsampling (either using a strided convolution in the previous step, or max pooling)\n",
        "- A second convolution layer that takes in $n$ channels, and outputs $2\\cdot n$ channels.\n",
        "- A $2 \\times 2$ downsampling (either using a strided convolution in the previous step, or max pooling)\n",
        "- A third convolution layer that takes in $2\\cdot n$ channels, and outputs $4\\cdot n$ channels.\n",
        "- A $2 \\times 2$ downsampling (either using a strided convolution in the previous step, or max pooling)\n",
        "- A fourth convolution layer that takes in $4\\cdot n$ channels, and outputs $8\\cdot n$ channels.\n",
        "- A $2 \\times 2$ downsampling (either using a strided convolution in the previous step, or max pooling)\n",
        "- A fully-connected layer with 100 hidden units\n",
        "- A fully-connected layer with 2 hidden units\n",
        "\n",
        "Make the variable $n$ a parameter of your CNN. You can use either $3 \\times 3$ or $5 \\times 5$\n",
        "convolutions kernels. Set your padding to be `(kernel_size - 1) / 2` so that your feature maps\n",
        "have an even height/width.\n",
        "\n",
        "Note that we are omitting in our description certain steps that practitioners will typically not mention,\n",
        "like ReLU activations and reshaping operations. Use the example presented in class to figure out where they are."
      ],
      "metadata": {
        "datalore": {
          "node_id": "GnbqCRovBTXHQex3jFzpCx",
          "type": "MD",
          "hide_input_from_viewers": false,
          "hide_output_from_viewers": false,
          "report_properties": {}
        },
        "id": "wUfzSimK2_fu"
      }
    },
    {
      "cell_type": "code",
      "source": [
        "class CNN(nn.Module):\n",
        "    def __init__(self, n=4):\n",
        "        super(CNN, self).__init__()\n",
        "        # TODO: complete this method\n",
        "\n",
        "    # TODO: complete this class"
      ],
      "execution_count": null,
      "outputs": [],
      "metadata": {
        "datalore": {
          "node_id": "jxGo1T39YtsSQ4xPAAccnQ",
          "type": "CODE",
          "hide_input_from_viewers": false,
          "hide_output_from_viewers": false,
          "report_properties": {}
        },
        "id": "oOGEgEUr2_fv"
      }
    },
    {
      "cell_type": "markdown",
      "source": [
        "### Part (b) -- 8%\n",
        "\n",
        "Implement a CNN model in PyTorch called `CNNChannel` that contains the same layers as\n",
        "in the Part (a), but with one crucial difference: instead of starting with an image\n",
        "of shape $3 \\times 448 \\times 224$, we will first manipulate the image so that the\n",
        "left and right shoes images are concatenated along the **channel** dimension.\n",
        "\n",
        "<img src=\"https://drive.google.com/uc?id=1B59VE43X-6Dw3ag-9Ndn6vPEzbnFem8K\" width=\"400px\" />\n",
        "\n",
        "\n",
        "Complete the manipulation in the `forward()` method (by slicing and using\n",
        "the function `torch.cat`). The input to the first convolutional layer\n",
        "should have 6 channels instead of 3 (input shape $6 \\times 224 \\times 224$).\n",
        "\n",
        "Use the same hyperparameter choices as you did in part (a), e.g. for the kernel size,\n",
        "choice of downsampling, and other choices."
      ],
      "metadata": {
        "datalore": {
          "node_id": "lQaEZOZX3xiJanLbc2dYzG",
          "type": "MD",
          "hide_input_from_viewers": false,
          "hide_output_from_viewers": false,
          "report_properties": {}
        },
        "id": "SzkPihWS2_fv"
      }
    },
    {
      "cell_type": "code",
      "source": [
        "class CNNChannel(nn.Module):\n",
        "    def __init__(self, n=4):\n",
        "        super(CNNChannel, self).__init__()\n",
        "        # TODO: complete this method\n",
        "\n",
        "    # TODO: complete this class"
      ],
      "execution_count": null,
      "outputs": [],
      "metadata": {
        "datalore": {
          "node_id": "T13UHOu20lstQ3dHVLOdpU",
          "type": "CODE",
          "hide_input_from_viewers": false,
          "hide_output_from_viewers": false,
          "report_properties": {}
        },
        "id": "ZCGRBcEq2_fw"
      }
    },
    {
      "cell_type": "markdown",
      "source": [
        "## Part (c) -- 4%\n",
        "\n",
        "The two models are quite similar, and should have almost the same number of parameters.\n",
        "However, one of these models will perform better, showing that architecture choices **do**\n",
        "matter in machine learning. Explain why one of these models performs better."
      ],
      "metadata": {
        "datalore": {
          "node_id": "YG9bWR0Tj7dizYEHsHpZkQ",
          "type": "MD",
          "hide_input_from_viewers": false,
          "hide_output_from_viewers": false,
          "report_properties": {}
        },
        "id": "aYdBAWJF2_fw"
      }
    },
    {
      "cell_type": "markdown",
      "source": [
        "**Write your explanation here:**"
      ],
      "metadata": {
        "datalore": {
          "node_id": "XrJzQq2UC9FHWXnMOzkmoE",
          "type": "MD",
          "hide_input_from_viewers": false,
          "hide_output_from_viewers": false,
          "report_properties": {}
        },
        "id": "HqJifto-2_fx"
      }
    },
    {
      "cell_type": "markdown",
      "source": [
        "## Part (d) -- 4%\n",
        "\n",
        "The function `get_accuracy` is written for you. You may need to modify this\n",
        "function depending on how you set up your model and training.\n",
        "\n",
        "Unlike in the previous assignment, her we will separately compute the model accuracy on the\n",
        "positive and negative samples.  Explain why we may wish to track the false positives and false negatives separately."
      ],
      "metadata": {
        "datalore": {
          "node_id": "a6Jha01ZUSyIdFa5nGLJRO",
          "type": "MD",
          "hide_input_from_viewers": false,
          "hide_output_from_viewers": false,
          "report_properties": {}
        },
        "id": "qgEUC6sz2_fx"
      }
    },
    {
      "cell_type": "markdown",
      "source": [
        "**Write your explanation here:**"
      ],
      "metadata": {
        "datalore": {
          "node_id": "JyAVv09fj4M8ureyVSs8zP",
          "type": "MD",
          "hide_input_from_viewers": false,
          "hide_output_from_viewers": false,
          "report_properties": {}
        },
        "id": "aBcPRcQf2_fx"
      }
    },
    {
      "cell_type": "code",
      "source": [
        "def get_accuracy(model, data, batch_size=50):\n",
        "    \"\"\"Compute the model accuracy on the data set. This function returns two\n",
        "    separate values: the model accuracy on the positive samples,\n",
        "    and the model accuracy on the negative samples.\n",
        "\n",
        "    Example Usage:\n",
        "\n",
        "    >>> model = CNN() # create untrained model\n",
        "    >>> pos_acc, neg_acc= get_accuracy(model, valid_data)\n",
        "    >>> false_positive = 1 - pos_acc\n",
        "    >>> false_negative = 1 - neg_acc\n",
        "    \"\"\"\n",
        "\n",
        "    model.eval()\n",
        "    n = data.shape[0]\n",
        "\n",
        "    data_pos = generate_same_pair(data)      # should have shape [n * 3, 448, 224, 3]\n",
        "    data_neg = generate_different_pair(data) # should have shape [n * 3, 448, 224, 3]\n",
        "\n",
        "    pos_correct = 0\n",
        "    for i in range(0, len(data_pos), batch_size):\n",
        "        xs = torch.Tensor(data_pos[i:i+batch_size]).transpose(1, 3)\n",
        "        zs = model(xs)\n",
        "        pred = zs.max(1, keepdim=True)[1] # get the index of the max logit\n",
        "        pred = pred.detach().numpy()\n",
        "        pos_correct += (pred == 1).sum()\n",
        "    \n",
        "    neg_correct = 0\n",
        "    for i in range(0, len(data_neg), batch_size):\n",
        "        xs = torch.Tensor(data_neg[i:i+batch_size]).transpose(1, 3)\n",
        "        zs = model(xs)\n",
        "        pred = zs.max(1, keepdim=True)[1] # get the index of the max logit\n",
        "        pred = pred.detach().numpy()\n",
        "        neg_correct += (pred == 0).sum()\n",
        "\n",
        "    return pos_correct / (n * 3), neg_correct / (n * 3)"
      ],
      "execution_count": null,
      "outputs": [],
      "metadata": {
        "datalore": {
          "node_id": "Ai7RVnaLEu9ZcPGiQLAwdY",
          "type": "CODE",
          "hide_input_from_viewers": false,
          "hide_output_from_viewers": false,
          "report_properties": {}
        },
        "id": "F_zSLNhP2_fx"
      }
    },
    {
      "cell_type": "markdown",
      "source": [
        "## Question 3. Training (40%)\n",
        "\n",
        "Now, we will write the functions required to train the model. \n",
        "\n",
        "Although our task is a binary classification problem, we will still use the architecture\n",
        "of a multi-class classification problem. That is, we'll use a one-hot vector to represent\n",
        "our target (like we did in the previous assignment). We'll also use `CrossEntropyLoss` instead of\n",
        "`BCEWithLogitsLoss` (this is a standard practice in machine learning because\n",
        "this architecture often performs better).\n",
        "\n",
        "### Part (a) -- 22%\n",
        "\n",
        "Write the function `train_model` that takes in (as parameters) the model, training data,\n",
        "validation data, and other hyperparameters like the batch size, weight decay, etc.\n",
        "This function should be somewhat similar to the training code that you wrote\n",
        "in Assignment 2, but with a major difference in the way we treat our training data.\n",
        "\n",
        "Since our positive (shoes of the same pair) and negative (shoes of different pairs) training sets are separate, it is actually easier for\n",
        "us to generate separate minibatches of positive and negative training data.\n",
        " In\n",
        "each iteration, we'll take `batch_size / 2` positive samples and `batch_size / 2`\n",
        "negative samples. We will also generate labels of 1's for the positive samples,\n",
        "and 0's for the negative samples.\n",
        "\n",
        "Here is what your training function should include:\n",
        "\n",
        "- main training loop; choice of loss function; choice of optimizer\n",
        "- obtaining the positive and negative samples\n",
        "- shuffling the positive and negative samples at the start of each epoch\n",
        "- in each iteration, take `batch_size / 2` positive samples and `batch_size / 2` negative samples\n",
        "  as our input for this batch\n",
        "- in each iteration, take `np.ones(batch_size / 2)` as the labels for the positive samples, and \n",
        "  `np.zeros(batch_size / 2)` as the labels for the negative samples\n",
        "- conversion from numpy arrays to PyTorch tensors, making sure that the input has dimensions $N \\times C \\times H \\times W$ (known as NCHW tensor), where $N$ is the number of images batch size, $C$ is the number of channels, $H$ is the height of the image, and $W$ is the width of the image. \n",
        "- computing the forward and backward passes \n",
        "- after every epoch, report the accuracies for the training set and validation set\n",
        "- track the training curve information and plot the training curve\n",
        "\n",
        "It is also recommended to checkpoint your model (save a copy) after every epoch, as we did in Assignment 2."
      ],
      "metadata": {
        "datalore": {
          "node_id": "kbfdUiNBVZAKCP9VJi4h3R",
          "type": "MD",
          "hide_input_from_viewers": false,
          "hide_output_from_viewers": false,
          "report_properties": {}
        },
        "id": "sTCDRBEG2_fy"
      }
    },
    {
      "cell_type": "code",
      "source": [
        "# Write your code here"
      ],
      "execution_count": null,
      "outputs": [],
      "metadata": {
        "datalore": {
          "node_id": "L2nI4GH7pTXOpwudqEk3bK",
          "type": "CODE",
          "hide_input_from_viewers": false,
          "hide_output_from_viewers": false,
          "report_properties": {}
        },
        "id": "m6Rpr5932_fy"
      }
    },
    {
      "cell_type": "markdown",
      "source": [
        "### Part (b) -- 6%\n",
        "\n",
        "Sanity check your code from Q3(a) and from Q2(a) and Q2(b) by showing that your models\n",
        "can memorize a very small subset of the training set (e.g. 5 images).\n",
        "You should be able to achieve 90%+ accuracy (don't forget to calculate the accuracy)\n",
        "relatively quickly (within ~30 or so iterations).\n",
        "\n",
        "\n",
        "(Start with the second network, it is easier to converge)\n",
        "\n",
        "Try to find the general parameters combination that work for each network, it can help you a little bit later."
      ],
      "metadata": {
        "datalore": {
          "node_id": "T3MLhWiByKU88lW0K0Wcny",
          "type": "MD",
          "hide_input_from_viewers": false,
          "hide_output_from_viewers": false,
          "report_properties": {}
        },
        "id": "qkkdUZRF2_fz"
      }
    },
    {
      "cell_type": "code",
      "source": [
        "# Write your code here. Remember to include your results so that we can\n",
        "# see that your model attains a high training accuracy. "
      ],
      "execution_count": null,
      "outputs": [],
      "metadata": {
        "datalore": {
          "node_id": "RblRyNcBhuNmobyRC8AP2f",
          "type": "CODE",
          "hide_input_from_viewers": false,
          "hide_output_from_viewers": false,
          "report_properties": {}
        },
        "id": "nNpfV0C62_fz"
      }
    },
    {
      "cell_type": "markdown",
      "source": [
        "### Part (c) -- 8%\n",
        "\n",
        "Train your models from Q2(a) and Q2(b). Change the values of a few \n",
        "hyperparameters, including the learning rate, batch size, choice of $n$, and \n",
        "the kernel size. You do not need to check all values for all hyperparameters. Instead, try to make big changes to see how each change affect your scores.\n",
        "(try to start with finding a resonable learning rate for each network, that start changing the other parameters, the first network might need bigger $n$ and kernel size)\n",
        "\n",
        "In this section, explain how you tuned your hyperparameters."
      ],
      "metadata": {
        "datalore": {
          "node_id": "4TadTAplN7b3VXs5demD8S",
          "type": "MD",
          "hide_input_from_viewers": false,
          "hide_output_from_viewers": false,
          "report_properties": {}
        },
        "id": "lzhVJ4Xe2_fz"
      }
    },
    {
      "cell_type": "markdown",
      "source": [
        "**Write your explanation here:**"
      ],
      "metadata": {
        "datalore": {
          "node_id": "sx8yDo6Ya1UK1fsTRPcGoX",
          "type": "MD",
          "hide_input_from_viewers": false,
          "hide_output_from_viewers": false,
          "report_properties": {}
        },
        "id": "uBbHJTuE2_fz"
      }
    },
    {
      "cell_type": "code",
      "source": [
        "# Include the training curves for the two models."
      ],
      "execution_count": null,
      "outputs": [],
      "metadata": {
        "datalore": {
          "node_id": "Vix0Jxd3A6mJ7zbqaQ72Wy",
          "type": "CODE",
          "hide_input_from_viewers": false,
          "hide_output_from_viewers": false,
          "report_properties": {}
        },
        "id": "GRVIuC1z2_f0"
      }
    },
    {
      "cell_type": "markdown",
      "source": [
        "### Part (d) -- 4%\n",
        "\n",
        "Include your training curves for the **best** models from each of Q2(a) and Q2(b).\n",
        "These are the models that you will use in Question 4."
      ],
      "metadata": {
        "datalore": {
          "node_id": "eYtZ7RdUjC9dMxGAkMDsdM",
          "type": "MD",
          "hide_input_from_viewers": false,
          "hide_output_from_viewers": false,
          "report_properties": {}
        },
        "id": "untGs5qd2_f0"
      }
    },
    {
      "cell_type": "code",
      "source": [
        "# Include the training curves for the two models."
      ],
      "execution_count": null,
      "outputs": [],
      "metadata": {
        "datalore": {
          "node_id": "iPQ4xH1AfdSIqyPSU8swWn",
          "type": "CODE",
          "hide_input_from_viewers": false,
          "hide_output_from_viewers": false,
          "report_properties": {}
        },
        "id": "HdG5vChb2_f0"
      }
    },
    {
      "cell_type": "markdown",
      "source": [
        "## Question 4. Testing (15%)\n",
        "\n",
        "### Part (a) -- 7%\n",
        "\n",
        "Report the test accuracies of your **single best** model,\n",
        "separately for the two test sets.\n",
        "Do this by choosing the  model\n",
        "architecture that produces the best validation accuracy. For instance,\n",
        "if your model attained the\n",
        "best validation accuracy in epoch 12, then the weights at epoch 12 is what you should be using\n",
        "to report the test accuracy."
      ],
      "metadata": {
        "datalore": {
          "node_id": "3iFnqN0aCYs9F1IMbIm4da",
          "type": "MD",
          "hide_input_from_viewers": false,
          "hide_output_from_viewers": false,
          "report_properties": {}
        },
        "id": "BqmJNhoo2_f0"
      }
    },
    {
      "cell_type": "code",
      "source": [
        "# Write your code here. Make sure to include the test accuracy in your report"
      ],
      "execution_count": null,
      "outputs": [],
      "metadata": {
        "datalore": {
          "node_id": "uln1l5ZEsiwFS3uHpIJRAo",
          "type": "CODE",
          "hide_input_from_viewers": false,
          "hide_output_from_viewers": false,
          "report_properties": {}
        },
        "id": "1zkzbuT_2_f1"
      }
    },
    {
      "cell_type": "markdown",
      "source": [
        "### Part (b) -- 4%\n",
        "\n",
        "Display one set of men's shoes that your model correctly classified as being\n",
        "from the same pair.\n",
        "\n",
        "If your test accuracy was not 100% on the men's shoes test set,\n",
        "display one set of inputs that your model classified incorrectly."
      ],
      "metadata": {
        "datalore": {
          "node_id": "ZaVPFbiMudWZnO4yQUIDBF",
          "type": "MD",
          "hide_input_from_viewers": false,
          "hide_output_from_viewers": false,
          "report_properties": {}
        },
        "id": "O7gKgbSx2_f1"
      }
    },
    {
      "cell_type": "markdown",
      "source": [
        "\n",
        "### Part (c) -- 4%\n",
        "\n",
        "Display one set of women's shoes that your model correctly classified as being\n",
        "from the same pair.\n",
        "\n",
        "If your test accuracy was not 100% on the women's shoes test set,\n",
        "display one set of inputs that your model classified incorrectly."
      ],
      "metadata": {
        "datalore": {
          "node_id": "xcD7PufblyM5LYpQGQMrrb",
          "type": "MD",
          "hide_input_from_viewers": false,
          "hide_output_from_viewers": false,
          "report_properties": {}
        },
        "id": "9Qo6_7re2_f1"
      }
    }
  ],
  "metadata": {
    "kernelspec": {
      "display_name": "Python",
      "language": "python",
      "name": "python"
    },
    "datalore": {
      "version": 1,
      "computation_mode": "JUPYTER",
      "package_manager": "pip",
      "base_environment": "default",
      "packages": []
    },
    "colab": {
      "provenance": [],
      "include_colab_link": true
    }
  },
  "nbformat": 4,
  "nbformat_minor": 0
}